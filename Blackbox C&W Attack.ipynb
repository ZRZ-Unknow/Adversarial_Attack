{
 "cells": [
  {
   "cell_type": "code",
   "execution_count": 1,
   "metadata": {
    "collapsed": true
   },
   "outputs": [
    {
     "name": "stderr",
     "output_type": "stream",
     "text": [
      "Using TensorFlow backend.\n",
      "WARNING: Logging before flag parsing goes to stderr.\n",
      "W0729 20:44:06.759449 19596 deprecation_wrapper.py:119] From C:\\Users\\Jaqen\\x\\lib\\site-packages\\keras\\backend\\tensorflow_backend.py:74: The name tf.get_default_graph is deprecated. Please use tf.compat.v1.get_default_graph instead.\n",
      "\n",
      "W0729 20:44:06.840232 19596 deprecation_wrapper.py:119] From C:\\Users\\Jaqen\\x\\lib\\site-packages\\keras\\backend\\tensorflow_backend.py:517: The name tf.placeholder is deprecated. Please use tf.compat.v1.placeholder instead.\n",
      "\n",
      "W0729 20:44:06.846226 19596 deprecation_wrapper.py:119] From C:\\Users\\Jaqen\\x\\lib\\site-packages\\keras\\backend\\tensorflow_backend.py:4138: The name tf.random_uniform is deprecated. Please use tf.random.uniform instead.\n",
      "\n",
      "W0729 20:44:06.906056 19596 deprecation_wrapper.py:119] From C:\\Users\\Jaqen\\x\\lib\\site-packages\\keras\\backend\\tensorflow_backend.py:3976: The name tf.nn.max_pool is deprecated. Please use tf.nn.max_pool2d instead.\n",
      "\n",
      "W0729 20:44:07.087572 19596 deprecation_wrapper.py:119] From C:\\Users\\Jaqen\\x\\lib\\site-packages\\keras\\backend\\tensorflow_backend.py:133: The name tf.placeholder_with_default is deprecated. Please use tf.compat.v1.placeholder_with_default instead.\n",
      "\n",
      "W0729 20:44:07.102532 19596 deprecation.py:506] From C:\\Users\\Jaqen\\x\\lib\\site-packages\\keras\\backend\\tensorflow_backend.py:3445: calling dropout (from tensorflow.python.ops.nn_ops) with keep_prob is deprecated and will be removed in a future version.\n",
      "Instructions for updating:\n",
      "Please use `rate` instead of `keep_prob`. Rate should be set to `rate = 1 - keep_prob`.\n",
      "W0729 20:44:07.229545 19596 deprecation_wrapper.py:119] From C:\\Users\\Jaqen\\x\\lib\\site-packages\\keras\\optimizers.py:790: The name tf.train.Optimizer is deprecated. Please use tf.compat.v1.train.Optimizer instead.\n",
      "\n",
      "W0729 20:44:07.246542 19596 deprecation_wrapper.py:119] From C:\\Users\\Jaqen\\x\\lib\\site-packages\\keras\\backend\\tensorflow_backend.py:3341: The name tf.log is deprecated. Please use tf.math.log instead.\n",
      "\n",
      "W0729 20:44:07.418043 19596 deprecation.py:323] From C:\\Users\\Jaqen\\x\\lib\\site-packages\\tensorflow\\python\\ops\\math_grad.py:1250: add_dispatch_support.<locals>.wrapper (from tensorflow.python.ops.array_ops) is deprecated and will be removed in a future version.\n",
      "Instructions for updating:\n",
      "Use tf.where in 2.0, which has the same broadcast rule as np.where\n"
     ]
    },
    {
     "name": "stdout",
     "output_type": "stream",
     "text": [
      "Epoch 1/1\n",
      "60000/60000 [==============================] - 28s 468us/step - loss: 0.2283 - acc: 0.9288\n",
      "10000/10000 [==============================] - 2s 155us/step\n",
      "Test accuracy: 0.9852\n"
     ]
    }
   ],
   "source": [
    "import matplotlib.pyplot as plt\n",
    "import numpy as np\n",
    "import tensorflow as tf\n",
    "from tensorflow import keras\n",
    "from keras.models import Sequential\n",
    "from keras.layers import Conv2D, MaxPool2D, Flatten, Dropout, Dense\n",
    "import os\n",
    "\n",
    "mnist = keras.datasets.mnist\n",
    "\n",
    "(train_images, train_labels), (test_images, test_labels) = mnist.load_data()\n",
    "train_images=train_images.reshape(-1,28,28,1)/255.0\n",
    "test_images=test_images.reshape(-1,28,28,1)/255.0\n",
    "\n",
    "model = Sequential()\n",
    "model.add(Conv2D(32, (5,5), activation='relu', input_shape=[28, 28, 1]))\n",
    "model.add(MaxPool2D(pool_size=(2,2)))\n",
    "model.add(Conv2D(64, (5,5), activation='relu'))\n",
    "model.add(MaxPool2D(pool_size=(2,2)))\n",
    "model.add(Flatten())\n",
    "model.add(Dropout(0.5))\n",
    "model.add(Dense(128, activation='relu'))\n",
    "model.add(Dropout(0.5))\n",
    "model.add(Dense(10, activation='softmax'))\n",
    "\n",
    "model.compile(optimizer=tf.train.AdamOptimizer(),\n",
    "              loss='sparse_categorical_crossentropy',\n",
    "              metrics=['accuracy'])\n",
    "\n",
    "model.fit(train_images, train_labels, epochs=1)\n",
    "test_loss, test_acc = model.evaluate(test_images, test_labels)\n",
    "print('Test accuracy:', test_acc)\n",
    "loss_object = tf.keras.losses.CategoricalCrossentropy()"
   ]
  },
  {
   "cell_type": "code",
   "execution_count": 2,
   "metadata": {},
   "outputs": [],
   "source": [
    "def zoo_create(input_image, input_label,h):\n",
    "    e=input_image\n",
    "    size=input_image.shape[0]\n",
    "    temp=np.zeros((size,10))\n",
    "    for i in range(temp.shape[0]):\n",
    "        temp[i,input_label[i]]=1\n",
    "    prediction=model(input_image)\n",
    "    with tf.GradientTape() as tape:\n",
    "        tape.watch(input_image)\n",
    "        loss = loss_object(prediction, temp)\n",
    "    gradient1 = tf.gradients(loss, input_image)    \n",
    "    gradient2=(model(input_image+h*e)-model(input_image-h*e))/(2*h)\n",
    "    gradient2=tf.reduce_sum(gradient2)\n",
    "    gradient=gradient1*gradient2\n",
    "    return tf.reshape(tf.sign(gradient),[size,28,28,1])"
   ]
  },
  {
   "cell_type": "code",
   "execution_count": 3,
   "metadata": {},
   "outputs": [],
   "source": [
    "def blackbox(alpha,image,label,maxiter,Lambda,h):\n",
    "    image_shadow=image\n",
    "    temp=tf.zeros_like(image)\n",
    "    for i in range(maxiter):\n",
    "        perturbations=zoo_create(image,label,h)\n",
    "        adv_x = image + alpha*perturbations - 2*alpha*Lambda*(image-image_shadow)\n",
    "        adv_x = tf.clip_by_value(adv_x, 0, 1)\n",
    "        image_shadow=image\n",
    "        image=adv_x\n",
    "        temp+=alpha*perturbations - 2*alpha*Lambda*(image-image_shadow)\n",
    "        temp=tf.clip_by_value(temp,0,1)\n",
    "    return image,temp"
   ]
  },
  {
   "cell_type": "code",
   "execution_count": 4,
   "metadata": {
    "collapsed": true
   },
   "outputs": [
    {
     "name": "stdout",
     "output_type": "stream",
     "text": [
      "1/1 [==============================] - 6s 6s/step\n",
      "1/1 [==============================] - 6s 6s/step\n",
      "1/1 [==============================] - 6s 6s/step\n",
      "1/1 [==============================] - 6s 6s/step\n",
      "1/1 [==============================] - 6s 6s/step\n",
      "1/1 [==============================] - 7s 7s/step\n",
      "1/1 [==============================] - 7s 7s/step\n",
      "1/1 [==============================] - 6s 6s/step\n",
      "1/1 [==============================] - 7s 7s/step\n",
      "1/1 [==============================] - 7s 7s/step\n",
      "1/1 [==============================] - 7s 7s/step\n",
      "1/1 [==============================] - 7s 7s/step\n",
      "1/1 [==============================] - 7s 7s/step\n",
      "1/1 [==============================] - 7s 7s/step\n",
      "1/1 [==============================] - 8s 8s/step\n",
      "1/1 [==============================] - 8s 8s/step\n",
      "1/1 [==============================] - 8s 8s/step\n",
      "1/1 [==============================] - 8s 8s/step\n",
      "1/1 [==============================] - 8s 8s/step\n",
      "1/1 [==============================] - 8s 8s/step\n",
      "1/1 [==============================] - 9s 9s/step\n",
      "1/1 [==============================] - 9s 9s/step\n",
      "1/1 [==============================] - 9s 9s/step\n",
      "1/1 [==============================] - 9s 9s/step\n",
      "1/1 [==============================] - 10s 10s/step\n",
      "1/1 [==============================] - 10s 10s/step\n",
      "1/1 [==============================] - 10s 10s/step\n",
      "1/1 [==============================] - 11s 11s/step\n",
      "1/1 [==============================] - 11s 11s/step\n",
      "1/1 [==============================] - 11s 11s/step\n",
      "1/1 [==============================] - 11s 11s/step\n",
      "1/1 [==============================] - 12s 12s/step\n",
      "1/1 [==============================] - 12s 12s/step\n",
      "1/1 [==============================] - 12s 12s/step\n",
      "1/1 [==============================] - 13s 13s/step\n",
      "1/1 [==============================] - 13s 13s/step\n",
      "1/1 [==============================] - 14s 14s/step\n",
      "1/1 [==============================] - 14s 14s/step\n",
      "1/1 [==============================] - 14s 14s/step\n",
      "1/1 [==============================] - 15s 15s/step\n",
      "Lambda:0.8,alpha:0.01,tess_acc:0.8510999917984009\n",
      "Lambda:1.8,alpha:0.01,tess_acc:0.8641000092029572\n",
      "Lambda:1.8,alpha:0.02,tess_acc:0.5008999958634377\n",
      "Lambda:2.5,alpha:0.02,tess_acc:0.45850000381469724\n"
     ]
    }
   ],
   "source": [
    "alpha=[0.01,0.01,0.02,0.02] \n",
    "Lambda=[0.8,1.8,1.8,2.5]\n",
    "result=[]\n",
    "for (lam,a) in zip(Lambda,alpha):\n",
    "    tess_acc=0\n",
    "    for i in range(10):\n",
    "        test=test_images[1000*i:1000*(i+1),:,:,:]\n",
    "        bat=test.shape[0]\n",
    "        images = tf.cast(test, tf.float32)\n",
    "        images = tf.reshape(images, [bat,28,28,1])\n",
    "        adv_x,noise=blackbox(a,images,test_labels[1000*i:1000*(i+1)],10,lam,0.9)  \n",
    "        adv_pre=model.predict(adv_x, steps=1)\n",
    "        adv_class=adv_pre.argmax(axis=1)\n",
    "        adv_con=[x[i] for x,i in zip(adv_pre,adv_class)]\n",
    "        tess_acc+=model.evaluate(adv_x,test_labels[1000*i:1000*(i+1)],steps=1)[1]\n",
    "    result.append(tess_acc/10)\n",
    "for i in range(4):\n",
    "    print('Lambda:{},alpha:{},tess_acc:{}'.format(Lambda[i],alpha[i],result[i]))"
   ]
  },
  {
   "cell_type": "code",
   "execution_count": 99,
   "metadata": {},
   "outputs": [
    {
     "data": {
      "image/png": "[encoded data removed]",
      "text/plain": [
       "<Figure size 432x288 with 3 Axes>"
      ]
     },
     "metadata": {
      "needs_background": "light"
     },
     "output_type": "display_data"
    }
   ],
   "source": [
    "succ_image=adv_class==test_labels[:bat]\n",
    "u=np.argwhere(succ_image==False).reshape((-1,))\n",
    "with tf.Session() as sess:\n",
    "    sess.run(tf.global_variables_initializer())\n",
    "    for i in range(1):\n",
    "        f1=plt.figure()\n",
    "        ax1=f1.add_subplot(131)\n",
    "        ax2=f1.add_subplot(132)\n",
    "        ax3=f1.add_subplot(133)\n",
    "        p=np.random.choice(u)\n",
    "        ax1.imshow(images[p,:,:,0].eval(),cmap='gray')\n",
    "        ax2.imshow(noise[p,:,:,0].eval(),cmap='gray')\n",
    "        ax3.imshow(adv_x[p,:,:,0].eval(),cmap='gray')\n",
    "        plt.title('original_class:{},\\nadv_class:{},\\nconfidence:{}'.format(test_labels[p],adv_class[p],adv_con[p]))\n",
    "        plt.show()"
   ]
  }
 ],
 "metadata": {
  "kernelspec": {
   "display_name": "Python 3",
   "language": "python",
   "name": "python3"
  },
  "varInspector": {
   "cols": {
    "lenName": 16,
    "lenType": 16,
    "lenVar": 40
   },
   "kernels_config": {
    "python": {
     "delete_cmd_postfix": "",
     "delete_cmd_prefix": "del ",
     "library": "var_list.py",
     "varRefreshCmd": "print(var_dic_list())"
    },
    "r": {
     "delete_cmd_postfix": ") ",
     "delete_cmd_prefix": "rm(",
     "library": "var_list.r",
     "varRefreshCmd": "cat(var_dic_list()) "
    }
   },
   "types_to_exclude": [
    "module",
    "function",
    "builtin_function_or_method",
    "instance",
    "_Feature"
   ],
   "window_display": false
  }
 },
 "nbformat": 4,
 "nbformat_minor": 2
}
